{
 "cells": [
  {
   "cell_type": "code",
   "execution_count": 15,
   "metadata": {},
   "outputs": [],
   "source": [
    "import pandas as pd\n",
    "import numpy as np\n",
    "import pandas as pd\n",
    "import torch\n",
    "import os\n",
    "import torchvision.transforms as transforms\n",
    "from PIL import Image\n",
    "from torch.utils.data import Dataset, DataLoader\n",
    "from torchvision import models\n",
    "import torch.nn as nn\n",
    "import torch.optim as optim\n",
    "import matplotlib.pyplot as plt\n",
    "from datasets import load_dataset\n",
    "import tarfile\n",
    "import requests\n",
    "from pathlib import Path"
   ]
  },
  {
   "cell_type": "code",
   "execution_count": 17,
   "metadata": {},
   "outputs": [
    {
     "name": "stdout",
     "output_type": "stream",
     "text": [
      "Project root path: /teamspace/studios/this_studio\n"
     ]
    }
   ],
   "source": [
    "def get_project_root() -> Path:\n",
    "    return Path(os.getcwd()).resolve()\n",
    "\n",
    "PROJECT_ROOT = get_project_root()\n",
    "\n",
    "print(f\"Project root path: {PROJECT_ROOT}\")"
   ]
  },
  {
   "cell_type": "code",
   "execution_count": 20,
   "metadata": {},
   "outputs": [],
   "source": [
    "# dataset_url = \"https://huggingface.co/datasets/huudung141434/cangjie-dataset/resolve/main/etl_952_singlechar_size_64.tar.gz\"\n",
    "# file_path = \"cangjie_dataset.tar.gz\"\n",
    "\n",
    "# # Tải file tar.gz từ URL\n",
    "# response = requests.get(dataset_url, stream=True)\n",
    "# with open(file_path, 'wb') as file:\n",
    "#     for chunk in response.iter_content(chunk_size=1024):\n",
    "#         if chunk:\n",
    "#             file.write(chunk)\n",
    "\n",
    "# # Giải nén tệp tar.gz\n",
    "# extracted_folder_path = \"/teamspace/studios/this_studio/pytorch-cifar100/data/raw\"\n",
    "# with tarfile.open(file_path, \"r:gz\") as tar:\n",
    "#     tar.extractall(extracted_folder_path)"
   ]
  },
  {
   "cell_type": "code",
   "execution_count": 12,
   "metadata": {},
   "outputs": [
    {
     "data": {
      "text/plain": [
       "'/teamspace/studios/this_studio'"
      ]
     },
     "execution_count": 12,
     "metadata": {},
     "output_type": "execute_result"
    }
   ],
   "source": [
    "os.getcwd()"
   ]
  },
  {
   "cell_type": "code",
   "execution_count": null,
   "metadata": {},
   "outputs": [],
   "source": []
  }
 ],
 "metadata": {
  "kernelspec": {
   "display_name": "cloudspace",
   "language": "python",
   "name": "python3"
  },
  "language_info": {
   "codemirror_mode": {
    "name": "ipython",
    "version": 3
   },
   "file_extension": ".py",
   "mimetype": "text/x-python",
   "name": "python",
   "nbconvert_exporter": "python",
   "pygments_lexer": "ipython3",
   "version": "3.10.10"
  }
 },
 "nbformat": 4,
 "nbformat_minor": 2
}
